{
 "cells": [
  {
   "cell_type": "code",
   "execution_count": 7,
   "id": "c61cb85d",
   "metadata": {},
   "outputs": [],
   "source": [
    "import requests\n",
    "from bs4 import BeautifulSoup\n",
    "import pandas as pd"
   ]
  },
  {
   "cell_type": "code",
   "execution_count": 8,
   "id": "5a97dca0",
   "metadata": {},
   "outputs": [],
   "source": [
    "base_url = \"https://www.airlinequality.com/airline-reviews/british-airways\""
   ]
  },
  {
   "cell_type": "code",
   "execution_count": 9,
   "id": "a81c91cc",
   "metadata": {},
   "outputs": [
    {
     "name": "stdout",
     "output_type": "stream",
     "text": [
      "Scriping Page 1\n",
      "      -----> 100 total reviews\n",
      "Scriping Page 2\n",
      "      -----> 200 total reviews\n",
      "Scriping Page 3\n",
      "      -----> 300 total reviews\n",
      "Scriping Page 4\n",
      "      -----> 400 total reviews\n",
      "Scriping Page 5\n",
      "      -----> 500 total reviews\n",
      "Scriping Page 6\n",
      "      -----> 600 total reviews\n",
      "Scriping Page 7\n",
      "      -----> 700 total reviews\n",
      "Scriping Page 8\n",
      "      -----> 800 total reviews\n",
      "Scriping Page 9\n",
      "      -----> 900 total reviews\n",
      "Scriping Page 10\n",
      "      -----> 1000 total reviews\n"
     ]
    }
   ],
   "source": [
    "pages = 10\n",
    "page_size = 100\n",
    "\n",
    "reviews = []\n",
    "\n",
    "for i in range(1, pages + 1):\n",
    "    print(f\"Scriping Page {i}\")\n",
    "    url = f\"{base_url}/page/{i}/?sortby=post_date%3ADesc&pagesize={page_size}\"\n",
    "    reposnse = requests.get(url)\n",
    "    \n",
    "    content = reposnse.content\n",
    "    parsed_content = BeautifulSoup(content, \"html.parser\")\n",
    "    \n",
    "    for para in parsed_content.find_all(\"div\", {\"class\": \"text_content\"}):\n",
    "        reviews.append(para.get_text())\n",
    "        \n",
    "    print(f\"      -----> {len(reviews)} total reviews\")\n"
   ]
  },
  {
   "cell_type": "code",
   "execution_count": 10,
   "id": "50e0ea9f",
   "metadata": {},
   "outputs": [
    {
     "data": {
      "text/html": [
       "<div>\n",
       "<style scoped>\n",
       "    .dataframe tbody tr th:only-of-type {\n",
       "        vertical-align: middle;\n",
       "    }\n",
       "\n",
       "    .dataframe tbody tr th {\n",
       "        vertical-align: top;\n",
       "    }\n",
       "\n",
       "    .dataframe thead th {\n",
       "        text-align: right;\n",
       "    }\n",
       "</style>\n",
       "<table border=\"1\" class=\"dataframe\">\n",
       "  <thead>\n",
       "    <tr style=\"text-align: right;\">\n",
       "      <th></th>\n",
       "      <th>reviews</th>\n",
       "    </tr>\n",
       "  </thead>\n",
       "  <tbody>\n",
       "    <tr>\n",
       "      <th>0</th>\n",
       "      <td>Not Verified |  We flew BA between Heathrow an...</td>\n",
       "    </tr>\n",
       "    <tr>\n",
       "      <th>1</th>\n",
       "      <td>Not Verified |  Absolutely disgusted with BA. ...</td>\n",
       "    </tr>\n",
       "    <tr>\n",
       "      <th>2</th>\n",
       "      <td>Not Verified | Took a trip to Nashville with m...</td>\n",
       "    </tr>\n",
       "    <tr>\n",
       "      <th>3</th>\n",
       "      <td>Not Verified |  A nightmare journey courtesy o...</td>\n",
       "    </tr>\n",
       "    <tr>\n",
       "      <th>4</th>\n",
       "      <td>✅ Trip Verified | Absolutely atrocious. LHR-OR...</td>\n",
       "    </tr>\n",
       "  </tbody>\n",
       "</table>\n",
       "</div>"
      ],
      "text/plain": [
       "                                             reviews\n",
       "0  Not Verified |  We flew BA between Heathrow an...\n",
       "1  Not Verified |  Absolutely disgusted with BA. ...\n",
       "2  Not Verified | Took a trip to Nashville with m...\n",
       "3  Not Verified |  A nightmare journey courtesy o...\n",
       "4  ✅ Trip Verified | Absolutely atrocious. LHR-OR..."
      ]
     },
     "execution_count": 10,
     "metadata": {},
     "output_type": "execute_result"
    }
   ],
   "source": [
    "df = pd.DataFrame()\n",
    "df[\"reviews\"] = reviews\n",
    "df.head()"
   ]
  },
  {
   "cell_type": "code",
   "execution_count": 11,
   "id": "f6ccce7d",
   "metadata": {},
   "outputs": [],
   "source": [
    "df.to_csv(\"BA_reviews.csv\", index=False)"
   ]
  },
  {
   "cell_type": "code",
   "execution_count": 12,
   "id": "61221dbb",
   "metadata": {},
   "outputs": [],
   "source": [
    "df = pd.read_csv(\"BA_reviews.csv\")"
   ]
  },
  {
   "cell_type": "code",
   "execution_count": 13,
   "id": "eb052eba",
   "metadata": {},
   "outputs": [
    {
     "data": {
      "text/html": [
       "<div>\n",
       "<style scoped>\n",
       "    .dataframe tbody tr th:only-of-type {\n",
       "        vertical-align: middle;\n",
       "    }\n",
       "\n",
       "    .dataframe tbody tr th {\n",
       "        vertical-align: top;\n",
       "    }\n",
       "\n",
       "    .dataframe thead th {\n",
       "        text-align: right;\n",
       "    }\n",
       "</style>\n",
       "<table border=\"1\" class=\"dataframe\">\n",
       "  <thead>\n",
       "    <tr style=\"text-align: right;\">\n",
       "      <th></th>\n",
       "      <th>Unnamed: 0</th>\n",
       "      <th>reviews</th>\n",
       "    </tr>\n",
       "  </thead>\n",
       "  <tbody>\n",
       "    <tr>\n",
       "      <th>0</th>\n",
       "      <td>0</td>\n",
       "      <td>Not Verified |  We flew BA between Heathrow an...</td>\n",
       "    </tr>\n",
       "    <tr>\n",
       "      <th>1</th>\n",
       "      <td>1</td>\n",
       "      <td>Not Verified |  Absolutely disgusted with BA. ...</td>\n",
       "    </tr>\n",
       "    <tr>\n",
       "      <th>2</th>\n",
       "      <td>2</td>\n",
       "      <td>Not Verified | Took a trip to Nashville with m...</td>\n",
       "    </tr>\n",
       "    <tr>\n",
       "      <th>3</th>\n",
       "      <td>3</td>\n",
       "      <td>Not Verified |  A nightmare journey courtesy o...</td>\n",
       "    </tr>\n",
       "    <tr>\n",
       "      <th>4</th>\n",
       "      <td>4</td>\n",
       "      <td>✅ Trip Verified | Absolutely atrocious. LHR-OR...</td>\n",
       "    </tr>\n",
       "  </tbody>\n",
       "</table>\n",
       "</div>"
      ],
      "text/plain": [
       "   Unnamed: 0                                            reviews\n",
       "0           0  Not Verified |  We flew BA between Heathrow an...\n",
       "1           1  Not Verified |  Absolutely disgusted with BA. ...\n",
       "2           2  Not Verified | Took a trip to Nashville with m...\n",
       "3           3  Not Verified |  A nightmare journey courtesy o...\n",
       "4           4  ✅ Trip Verified | Absolutely atrocious. LHR-OR..."
      ]
     },
     "execution_count": 13,
     "metadata": {},
     "output_type": "execute_result"
    }
   ],
   "source": [
    "df.head()"
   ]
  },
  {
   "cell_type": "code",
   "execution_count": 14,
   "id": "38fc37ea",
   "metadata": {},
   "outputs": [],
   "source": [
    "df[\"reviews\"] = df[\"reviews\"].str.replace(\"✅ Trip Verified |\", \"\", regex=False)"
   ]
  },
  {
   "cell_type": "code",
   "execution_count": 15,
   "id": "5d56649f",
   "metadata": {},
   "outputs": [
    {
     "data": {
      "text/html": [
       "<div>\n",
       "<style scoped>\n",
       "    .dataframe tbody tr th:only-of-type {\n",
       "        vertical-align: middle;\n",
       "    }\n",
       "\n",
       "    .dataframe tbody tr th {\n",
       "        vertical-align: top;\n",
       "    }\n",
       "\n",
       "    .dataframe thead th {\n",
       "        text-align: right;\n",
       "    }\n",
       "</style>\n",
       "<table border=\"1\" class=\"dataframe\">\n",
       "  <thead>\n",
       "    <tr style=\"text-align: right;\">\n",
       "      <th></th>\n",
       "      <th>Unnamed: 0</th>\n",
       "      <th>reviews</th>\n",
       "    </tr>\n",
       "  </thead>\n",
       "  <tbody>\n",
       "    <tr>\n",
       "      <th>0</th>\n",
       "      <td>0</td>\n",
       "      <td>Not Verified |  We flew BA between Heathrow an...</td>\n",
       "    </tr>\n",
       "    <tr>\n",
       "      <th>1</th>\n",
       "      <td>1</td>\n",
       "      <td>Not Verified |  Absolutely disgusted with BA. ...</td>\n",
       "    </tr>\n",
       "    <tr>\n",
       "      <th>2</th>\n",
       "      <td>2</td>\n",
       "      <td>Not Verified | Took a trip to Nashville with m...</td>\n",
       "    </tr>\n",
       "    <tr>\n",
       "      <th>3</th>\n",
       "      <td>3</td>\n",
       "      <td>Not Verified |  A nightmare journey courtesy o...</td>\n",
       "    </tr>\n",
       "    <tr>\n",
       "      <th>4</th>\n",
       "      <td>4</td>\n",
       "      <td>Absolutely atrocious. LHR-ORD-LHR Round-trip....</td>\n",
       "    </tr>\n",
       "  </tbody>\n",
       "</table>\n",
       "</div>"
      ],
      "text/plain": [
       "   Unnamed: 0                                            reviews\n",
       "0           0  Not Verified |  We flew BA between Heathrow an...\n",
       "1           1  Not Verified |  Absolutely disgusted with BA. ...\n",
       "2           2  Not Verified | Took a trip to Nashville with m...\n",
       "3           3  Not Verified |  A nightmare journey courtesy o...\n",
       "4           4   Absolutely atrocious. LHR-ORD-LHR Round-trip...."
      ]
     },
     "execution_count": 15,
     "metadata": {},
     "output_type": "execute_result"
    }
   ],
   "source": [
    "df.head()"
   ]
  },
  {
   "cell_type": "code",
   "execution_count": 16,
   "id": "abc14f0b",
   "metadata": {},
   "outputs": [
    {
     "data": {
      "text/html": [
       "<div>\n",
       "<style scoped>\n",
       "    .dataframe tbody tr th:only-of-type {\n",
       "        vertical-align: middle;\n",
       "    }\n",
       "\n",
       "    .dataframe tbody tr th {\n",
       "        vertical-align: top;\n",
       "    }\n",
       "\n",
       "    .dataframe thead th {\n",
       "        text-align: right;\n",
       "    }\n",
       "</style>\n",
       "<table border=\"1\" class=\"dataframe\">\n",
       "  <thead>\n",
       "    <tr style=\"text-align: right;\">\n",
       "      <th></th>\n",
       "      <th>reviews</th>\n",
       "    </tr>\n",
       "  </thead>\n",
       "  <tbody>\n",
       "    <tr>\n",
       "      <th>0</th>\n",
       "      <td>Not Verified |  We flew BA between Heathrow an...</td>\n",
       "    </tr>\n",
       "    <tr>\n",
       "      <th>1</th>\n",
       "      <td>Not Verified |  Absolutely disgusted with BA. ...</td>\n",
       "    </tr>\n",
       "    <tr>\n",
       "      <th>2</th>\n",
       "      <td>Not Verified | Took a trip to Nashville with m...</td>\n",
       "    </tr>\n",
       "    <tr>\n",
       "      <th>3</th>\n",
       "      <td>Not Verified |  A nightmare journey courtesy o...</td>\n",
       "    </tr>\n",
       "    <tr>\n",
       "      <th>4</th>\n",
       "      <td>Absolutely atrocious. LHR-ORD-LHR Round-trip....</td>\n",
       "    </tr>\n",
       "  </tbody>\n",
       "</table>\n",
       "</div>"
      ],
      "text/plain": [
       "                                             reviews\n",
       "0  Not Verified |  We flew BA between Heathrow an...\n",
       "1  Not Verified |  Absolutely disgusted with BA. ...\n",
       "2  Not Verified | Took a trip to Nashville with m...\n",
       "3  Not Verified |  A nightmare journey courtesy o...\n",
       "4   Absolutely atrocious. LHR-ORD-LHR Round-trip...."
      ]
     },
     "execution_count": 16,
     "metadata": {},
     "output_type": "execute_result"
    }
   ],
   "source": [
    "df.drop(df.columns[df.columns.str.contains('^Unnamed', regex=True)], axis=1, inplace=True)\n",
    "\n",
    "df.head()"
   ]
  },
  {
   "cell_type": "code",
   "execution_count": 17,
   "id": "e934ad6a",
   "metadata": {},
   "outputs": [],
   "source": [
    "df[\"reviews\"] = df[\"reviews\"].str.replace(\"Not Verified |\", \"\", regex=False)"
   ]
  },
  {
   "cell_type": "code",
   "execution_count": 18,
   "id": "e70e1beb",
   "metadata": {},
   "outputs": [
    {
     "data": {
      "text/html": [
       "<div>\n",
       "<style scoped>\n",
       "    .dataframe tbody tr th:only-of-type {\n",
       "        vertical-align: middle;\n",
       "    }\n",
       "\n",
       "    .dataframe tbody tr th {\n",
       "        vertical-align: top;\n",
       "    }\n",
       "\n",
       "    .dataframe thead th {\n",
       "        text-align: right;\n",
       "    }\n",
       "</style>\n",
       "<table border=\"1\" class=\"dataframe\">\n",
       "  <thead>\n",
       "    <tr style=\"text-align: right;\">\n",
       "      <th></th>\n",
       "      <th>reviews</th>\n",
       "    </tr>\n",
       "  </thead>\n",
       "  <tbody>\n",
       "    <tr>\n",
       "      <th>0</th>\n",
       "      <td>We flew BA between Heathrow and Berlin one w...</td>\n",
       "    </tr>\n",
       "    <tr>\n",
       "      <th>1</th>\n",
       "      <td>Absolutely disgusted with BA. Our flights we...</td>\n",
       "    </tr>\n",
       "    <tr>\n",
       "      <th>2</th>\n",
       "      <td>Took a trip to Nashville with my wife for a l...</td>\n",
       "    </tr>\n",
       "    <tr>\n",
       "      <th>3</th>\n",
       "      <td>A nightmare journey courtesy of British Airw...</td>\n",
       "    </tr>\n",
       "    <tr>\n",
       "      <th>4</th>\n",
       "      <td>Absolutely atrocious. LHR-ORD-LHR Round-trip....</td>\n",
       "    </tr>\n",
       "    <tr>\n",
       "      <th>...</th>\n",
       "      <td>...</td>\n",
       "    </tr>\n",
       "    <tr>\n",
       "      <th>995</th>\n",
       "      <td>❎  London to Olbia. Complete confusion. The pl...</td>\n",
       "    </tr>\n",
       "    <tr>\n",
       "      <th>996</th>\n",
       "      <td>Rotterdam to London City. After waiting for ...</td>\n",
       "    </tr>\n",
       "    <tr>\n",
       "      <th>997</th>\n",
       "      <td>Return flight to Dublin. Outbound Galleries ...</td>\n",
       "    </tr>\n",
       "    <tr>\n",
       "      <th>998</th>\n",
       "      <td>Barbados to Gatwick. We boarded a half full ...</td>\n",
       "    </tr>\n",
       "    <tr>\n",
       "      <th>999</th>\n",
       "      <td>I would like to praise the outstanding court...</td>\n",
       "    </tr>\n",
       "  </tbody>\n",
       "</table>\n",
       "<p>1000 rows × 1 columns</p>\n",
       "</div>"
      ],
      "text/plain": [
       "                                               reviews\n",
       "0      We flew BA between Heathrow and Berlin one w...\n",
       "1      Absolutely disgusted with BA. Our flights we...\n",
       "2     Took a trip to Nashville with my wife for a l...\n",
       "3      A nightmare journey courtesy of British Airw...\n",
       "4     Absolutely atrocious. LHR-ORD-LHR Round-trip....\n",
       "..                                                 ...\n",
       "995  ❎  London to Olbia. Complete confusion. The pl...\n",
       "996    Rotterdam to London City. After waiting for ...\n",
       "997    Return flight to Dublin. Outbound Galleries ...\n",
       "998    Barbados to Gatwick. We boarded a half full ...\n",
       "999    I would like to praise the outstanding court...\n",
       "\n",
       "[1000 rows x 1 columns]"
      ]
     },
     "execution_count": 18,
     "metadata": {},
     "output_type": "execute_result"
    }
   ],
   "source": [
    "df.head(1000)"
   ]
  },
  {
   "cell_type": "code",
   "execution_count": 19,
   "id": "ff59dfc7",
   "metadata": {},
   "outputs": [],
   "source": [
    "df[\"reviews\"] = df[\"reviews\"].str.replace(\"❎\", \"\", regex=False)"
   ]
  },
  {
   "cell_type": "code",
   "execution_count": 20,
   "id": "63c264e3",
   "metadata": {},
   "outputs": [
    {
     "data": {
      "text/html": [
       "<div>\n",
       "<style scoped>\n",
       "    .dataframe tbody tr th:only-of-type {\n",
       "        vertical-align: middle;\n",
       "    }\n",
       "\n",
       "    .dataframe tbody tr th {\n",
       "        vertical-align: top;\n",
       "    }\n",
       "\n",
       "    .dataframe thead th {\n",
       "        text-align: right;\n",
       "    }\n",
       "</style>\n",
       "<table border=\"1\" class=\"dataframe\">\n",
       "  <thead>\n",
       "    <tr style=\"text-align: right;\">\n",
       "      <th></th>\n",
       "      <th>reviews</th>\n",
       "    </tr>\n",
       "  </thead>\n",
       "  <tbody>\n",
       "    <tr>\n",
       "      <th>0</th>\n",
       "      <td>We flew BA between Heathrow and Berlin one w...</td>\n",
       "    </tr>\n",
       "    <tr>\n",
       "      <th>1</th>\n",
       "      <td>Absolutely disgusted with BA. Our flights we...</td>\n",
       "    </tr>\n",
       "    <tr>\n",
       "      <th>2</th>\n",
       "      <td>Took a trip to Nashville with my wife for a l...</td>\n",
       "    </tr>\n",
       "    <tr>\n",
       "      <th>3</th>\n",
       "      <td>A nightmare journey courtesy of British Airw...</td>\n",
       "    </tr>\n",
       "    <tr>\n",
       "      <th>4</th>\n",
       "      <td>Absolutely atrocious. LHR-ORD-LHR Round-trip....</td>\n",
       "    </tr>\n",
       "    <tr>\n",
       "      <th>...</th>\n",
       "      <td>...</td>\n",
       "    </tr>\n",
       "    <tr>\n",
       "      <th>995</th>\n",
       "      <td>London to Olbia. Complete confusion. The pla...</td>\n",
       "    </tr>\n",
       "    <tr>\n",
       "      <th>996</th>\n",
       "      <td>Rotterdam to London City. After waiting for ...</td>\n",
       "    </tr>\n",
       "    <tr>\n",
       "      <th>997</th>\n",
       "      <td>Return flight to Dublin. Outbound Galleries ...</td>\n",
       "    </tr>\n",
       "    <tr>\n",
       "      <th>998</th>\n",
       "      <td>Barbados to Gatwick. We boarded a half full ...</td>\n",
       "    </tr>\n",
       "    <tr>\n",
       "      <th>999</th>\n",
       "      <td>I would like to praise the outstanding court...</td>\n",
       "    </tr>\n",
       "  </tbody>\n",
       "</table>\n",
       "<p>1000 rows × 1 columns</p>\n",
       "</div>"
      ],
      "text/plain": [
       "                                               reviews\n",
       "0      We flew BA between Heathrow and Berlin one w...\n",
       "1      Absolutely disgusted with BA. Our flights we...\n",
       "2     Took a trip to Nashville with my wife for a l...\n",
       "3      A nightmare journey courtesy of British Airw...\n",
       "4     Absolutely atrocious. LHR-ORD-LHR Round-trip....\n",
       "..                                                 ...\n",
       "995    London to Olbia. Complete confusion. The pla...\n",
       "996    Rotterdam to London City. After waiting for ...\n",
       "997    Return flight to Dublin. Outbound Galleries ...\n",
       "998    Barbados to Gatwick. We boarded a half full ...\n",
       "999    I would like to praise the outstanding court...\n",
       "\n",
       "[1000 rows x 1 columns]"
      ]
     },
     "execution_count": 20,
     "metadata": {},
     "output_type": "execute_result"
    }
   ],
   "source": [
    "df.head(1000)"
   ]
  },
  {
   "cell_type": "code",
   "execution_count": 21,
   "id": "9e433ca4",
   "metadata": {},
   "outputs": [
    {
     "data": {
      "text/html": [
       "<div>\n",
       "<style scoped>\n",
       "    .dataframe tbody tr th:only-of-type {\n",
       "        vertical-align: middle;\n",
       "    }\n",
       "\n",
       "    .dataframe tbody tr th {\n",
       "        vertical-align: top;\n",
       "    }\n",
       "\n",
       "    .dataframe thead th {\n",
       "        text-align: right;\n",
       "    }\n",
       "</style>\n",
       "<table border=\"1\" class=\"dataframe\">\n",
       "  <thead>\n",
       "    <tr style=\"text-align: right;\">\n",
       "      <th></th>\n",
       "      <th>reviews</th>\n",
       "    </tr>\n",
       "  </thead>\n",
       "  <tbody>\n",
       "    <tr>\n",
       "      <th>count</th>\n",
       "      <td>1000</td>\n",
       "    </tr>\n",
       "    <tr>\n",
       "      <th>unique</th>\n",
       "      <td>1000</td>\n",
       "    </tr>\n",
       "    <tr>\n",
       "      <th>top</th>\n",
       "      <td>We flew BA between Heathrow and Berlin one w...</td>\n",
       "    </tr>\n",
       "    <tr>\n",
       "      <th>freq</th>\n",
       "      <td>1</td>\n",
       "    </tr>\n",
       "  </tbody>\n",
       "</table>\n",
       "</div>"
      ],
      "text/plain": [
       "                                                  reviews\n",
       "count                                                1000\n",
       "unique                                               1000\n",
       "top       We flew BA between Heathrow and Berlin one w...\n",
       "freq                                                    1"
      ]
     },
     "execution_count": 21,
     "metadata": {},
     "output_type": "execute_result"
    }
   ],
   "source": [
    "df.describe()"
   ]
  },
  {
   "cell_type": "code",
   "execution_count": 22,
   "id": "7167ee7c",
   "metadata": {},
   "outputs": [
    {
     "data": {
      "text/plain": [
       "reviews    0\n",
       "dtype: int64"
      ]
     },
     "execution_count": 22,
     "metadata": {},
     "output_type": "execute_result"
    }
   ],
   "source": [
    "df.isnull().sum()"
   ]
  },
  {
   "cell_type": "code",
   "execution_count": 23,
   "id": "5eecdcf8",
   "metadata": {},
   "outputs": [
    {
     "data": {
      "text/plain": [
       "reviews    1000\n",
       "dtype: int64"
      ]
     },
     "execution_count": 23,
     "metadata": {},
     "output_type": "execute_result"
    }
   ],
   "source": [
    "df.nunique()"
   ]
  },
  {
   "cell_type": "code",
   "execution_count": 24,
   "id": "1a9b406e",
   "metadata": {},
   "outputs": [
    {
     "name": "stdout",
     "output_type": "stream",
     "text": [
      "Requirement already satisfied: vaderSentiment in c:\\users\\hp\\anaconda3\\lib\\site-packages (3.3.2)\n",
      "Requirement already satisfied: requests in c:\\users\\hp\\anaconda3\\lib\\site-packages (from vaderSentiment) (2.31.0)\n",
      "Requirement already satisfied: charset-normalizer<4,>=2 in c:\\users\\hp\\anaconda3\\lib\\site-packages (from requests->vaderSentiment) (2.0.4)\n",
      "Requirement already satisfied: idna<4,>=2.5 in c:\\users\\hp\\anaconda3\\lib\\site-packages (from requests->vaderSentiment) (3.4)\n",
      "Requirement already satisfied: urllib3<3,>=1.21.1 in c:\\users\\hp\\anaconda3\\lib\\site-packages (from requests->vaderSentiment) (1.26.16)\n",
      "Requirement already satisfied: certifi>=2017.4.17 in c:\\users\\hp\\anaconda3\\lib\\site-packages (from requests->vaderSentiment) (2023.7.22)\n",
      "Note: you may need to restart the kernel to use updated packages.\n"
     ]
    },
    {
     "name": "stderr",
     "output_type": "stream",
     "text": [
      "\n",
      "[notice] A new release of pip is available: 24.0 -> 24.2\n",
      "[notice] To update, run: python.exe -m pip install --upgrade pip\n"
     ]
    }
   ],
   "source": [
    "pip install vaderSentiment"
   ]
  },
  {
   "cell_type": "code",
   "execution_count": 25,
   "id": "9a1e8ce1",
   "metadata": {},
   "outputs": [],
   "source": [
    "from nltk.sentiment.vader import SentimentIntensityAnalyzer"
   ]
  },
  {
   "cell_type": "code",
   "execution_count": 26,
   "id": "85fd3a6c",
   "metadata": {},
   "outputs": [
    {
     "name": "stderr",
     "output_type": "stream",
     "text": [
      "[nltk_data] Downloading package vader_lexicon to\n",
      "[nltk_data]     C:\\Users\\hp\\AppData\\Roaming\\nltk_data...\n",
      "[nltk_data]   Package vader_lexicon is already up-to-date!\n"
     ]
    },
    {
     "data": {
      "text/plain": [
       "True"
      ]
     },
     "execution_count": 26,
     "metadata": {},
     "output_type": "execute_result"
    }
   ],
   "source": [
    "import nltk\n",
    "nltk.download('vader_lexicon')\n"
   ]
  },
  {
   "cell_type": "code",
   "execution_count": 27,
   "id": "c37815ac",
   "metadata": {},
   "outputs": [],
   "source": [
    "analyzer = SentimentIntensityAnalyzer()"
   ]
  },
  {
   "cell_type": "code",
   "execution_count": 28,
   "id": "4762ef8f",
   "metadata": {},
   "outputs": [],
   "source": [
    "def vadar_sentiment(text):\n",
    "    \"\"\" Calculate and return the nltk vadar (lexicon method) sentiment \"\"\"\n",
    "    return analyzer.polarity_scores(text)['compound']\n",
    "\n",
    "df['sentiment'] = df['reviews'].apply(vadar_sentiment)\n",
    "\n",
    "def categorise_sentiment(sentiment, neg_threshold=-0.05, pos_threshold=0.05):\n",
    "    \"\"\" categorise the sentiment value as positive (1), negative (-1) \n",
    "        or neutral (0) based on given thresholds \"\"\"\n",
    "    if sentiment < neg_threshold:\n",
    "        label = 'negative'\n",
    "    elif sentiment > pos_threshold:\n",
    "        label = 'positive'\n",
    "    else:\n",
    "        label = 'neutral'\n",
    "    return label\n",
    "df['polarity'] = df['sentiment'].apply(categorise_sentiment)"
   ]
  },
  {
   "cell_type": "code",
   "execution_count": 29,
   "id": "d3cde595",
   "metadata": {},
   "outputs": [
    {
     "data": {
      "text/html": [
       "<div>\n",
       "<style scoped>\n",
       "    .dataframe tbody tr th:only-of-type {\n",
       "        vertical-align: middle;\n",
       "    }\n",
       "\n",
       "    .dataframe tbody tr th {\n",
       "        vertical-align: top;\n",
       "    }\n",
       "\n",
       "    .dataframe thead th {\n",
       "        text-align: right;\n",
       "    }\n",
       "</style>\n",
       "<table border=\"1\" class=\"dataframe\">\n",
       "  <thead>\n",
       "    <tr style=\"text-align: right;\">\n",
       "      <th></th>\n",
       "      <th>reviews</th>\n",
       "      <th>sentiment</th>\n",
       "      <th>polarity</th>\n",
       "    </tr>\n",
       "  </thead>\n",
       "  <tbody>\n",
       "    <tr>\n",
       "      <th>0</th>\n",
       "      <td>We flew BA between Heathrow and Berlin one w...</td>\n",
       "      <td>0.9811</td>\n",
       "      <td>positive</td>\n",
       "    </tr>\n",
       "    <tr>\n",
       "      <th>1</th>\n",
       "      <td>Absolutely disgusted with BA. Our flights we...</td>\n",
       "      <td>-0.7047</td>\n",
       "      <td>negative</td>\n",
       "    </tr>\n",
       "    <tr>\n",
       "      <th>2</th>\n",
       "      <td>Took a trip to Nashville with my wife for a l...</td>\n",
       "      <td>0.7861</td>\n",
       "      <td>positive</td>\n",
       "    </tr>\n",
       "    <tr>\n",
       "      <th>3</th>\n",
       "      <td>A nightmare journey courtesy of British Airw...</td>\n",
       "      <td>-0.8520</td>\n",
       "      <td>negative</td>\n",
       "    </tr>\n",
       "    <tr>\n",
       "      <th>4</th>\n",
       "      <td>Absolutely atrocious. LHR-ORD-LHR Round-trip....</td>\n",
       "      <td>-0.9600</td>\n",
       "      <td>negative</td>\n",
       "    </tr>\n",
       "    <tr>\n",
       "      <th>...</th>\n",
       "      <td>...</td>\n",
       "      <td>...</td>\n",
       "      <td>...</td>\n",
       "    </tr>\n",
       "    <tr>\n",
       "      <th>995</th>\n",
       "      <td>London to Olbia. Complete confusion. The pla...</td>\n",
       "      <td>-0.9726</td>\n",
       "      <td>negative</td>\n",
       "    </tr>\n",
       "    <tr>\n",
       "      <th>996</th>\n",
       "      <td>Rotterdam to London City. After waiting for ...</td>\n",
       "      <td>-0.9539</td>\n",
       "      <td>negative</td>\n",
       "    </tr>\n",
       "    <tr>\n",
       "      <th>997</th>\n",
       "      <td>Return flight to Dublin. Outbound Galleries ...</td>\n",
       "      <td>0.8536</td>\n",
       "      <td>positive</td>\n",
       "    </tr>\n",
       "    <tr>\n",
       "      <th>998</th>\n",
       "      <td>Barbados to Gatwick. We boarded a half full ...</td>\n",
       "      <td>0.7998</td>\n",
       "      <td>positive</td>\n",
       "    </tr>\n",
       "    <tr>\n",
       "      <th>999</th>\n",
       "      <td>I would like to praise the outstanding court...</td>\n",
       "      <td>0.9800</td>\n",
       "      <td>positive</td>\n",
       "    </tr>\n",
       "  </tbody>\n",
       "</table>\n",
       "<p>1000 rows × 3 columns</p>\n",
       "</div>"
      ],
      "text/plain": [
       "                                               reviews  sentiment  polarity\n",
       "0      We flew BA between Heathrow and Berlin one w...     0.9811  positive\n",
       "1      Absolutely disgusted with BA. Our flights we...    -0.7047  negative\n",
       "2     Took a trip to Nashville with my wife for a l...     0.7861  positive\n",
       "3      A nightmare journey courtesy of British Airw...    -0.8520  negative\n",
       "4     Absolutely atrocious. LHR-ORD-LHR Round-trip....    -0.9600  negative\n",
       "..                                                 ...        ...       ...\n",
       "995    London to Olbia. Complete confusion. The pla...    -0.9726  negative\n",
       "996    Rotterdam to London City. After waiting for ...    -0.9539  negative\n",
       "997    Return flight to Dublin. Outbound Galleries ...     0.8536  positive\n",
       "998    Barbados to Gatwick. We boarded a half full ...     0.7998  positive\n",
       "999    I would like to praise the outstanding court...     0.9800  positive\n",
       "\n",
       "[1000 rows x 3 columns]"
      ]
     },
     "execution_count": 29,
     "metadata": {},
     "output_type": "execute_result"
    }
   ],
   "source": [
    "df"
   ]
  },
  {
   "cell_type": "code",
   "execution_count": 30,
   "id": "821332a1",
   "metadata": {},
   "outputs": [
    {
     "name": "stdout",
     "output_type": "stream",
     "text": [
      "<class 'pandas.core.frame.DataFrame'>\n",
      "RangeIndex: 1000 entries, 0 to 999\n",
      "Data columns (total 3 columns):\n",
      " #   Column     Non-Null Count  Dtype  \n",
      "---  ------     --------------  -----  \n",
      " 0   reviews    1000 non-null   object \n",
      " 1   sentiment  1000 non-null   float64\n",
      " 2   polarity   1000 non-null   object \n",
      "dtypes: float64(1), object(2)\n",
      "memory usage: 23.6+ KB\n"
     ]
    }
   ],
   "source": [
    "df.info()"
   ]
  },
  {
   "cell_type": "code",
   "execution_count": 31,
   "id": "8a37e5de",
   "metadata": {},
   "outputs": [
    {
     "data": {
      "text/plain": [
       "negative    520\n",
       "positive    465\n",
       "neutral      15\n",
       "Name: polarity, dtype: int64"
      ]
     },
     "execution_count": 31,
     "metadata": {},
     "output_type": "execute_result"
    }
   ],
   "source": [
    "df[\"polarity\"].value_counts()"
   ]
  },
  {
   "cell_type": "code",
   "execution_count": 32,
   "id": "d7b91f72",
   "metadata": {},
   "outputs": [],
   "source": [
    " value_count = df[\"polarity\"].value_counts()"
   ]
  },
  {
   "cell_type": "code",
   "execution_count": 33,
   "id": "b9434227",
   "metadata": {},
   "outputs": [],
   "source": [
    "Percentage = ((value_count / 1000)*100).round(0)"
   ]
  },
  {
   "cell_type": "code",
   "execution_count": 34,
   "id": "6da6e7a9",
   "metadata": {},
   "outputs": [
    {
     "data": {
      "text/plain": [
       "negative    52.0\n",
       "positive    46.0\n",
       "neutral      2.0\n",
       "Name: polarity, dtype: float64"
      ]
     },
     "execution_count": 34,
     "metadata": {},
     "output_type": "execute_result"
    }
   ],
   "source": [
    "Percentage"
   ]
  },
  {
   "cell_type": "code",
   "execution_count": 35,
   "id": "92228f62",
   "metadata": {},
   "outputs": [],
   "source": [
    "import matplotlib.pyplot as plt\n",
    "\n",
    "import seaborn as sns"
   ]
  },
  {
   "cell_type": "code",
   "execution_count": 48,
   "id": "e25115cc",
   "metadata": {
    "scrolled": true
   },
   "outputs": [
    {
     "data": {
      "image/png": "[encoded data removed]",
      "text/plain": [
       "<Figure size 640x480 with 1 Axes>"
      ]
     },
     "metadata": {},
     "output_type": "display_data"
    }
   ],
   "source": [
    "values = [52,46,2]\n",
    "labels = 'Negative 52%', 'Positive 46%', 'Netural 2%'\n",
    "colors = {'r', 'b', 'g'}\n",
    "plt.title('Sentiment Analysis of Reviews')\n",
    "explode = [0, 0, 0.1]\n",
    "plt.pie(values, labels=labels, colors=colors, explode=explode)\n",
    "plt.show()"
   ]
  },
  {
   "cell_type": "code",
   "execution_count": 49,
   "id": "121ab2da",
   "metadata": {},
   "outputs": [
    {
     "data": {
      "text/html": [
       "<div>\n",
       "<style scoped>\n",
       "    .dataframe tbody tr th:only-of-type {\n",
       "        vertical-align: middle;\n",
       "    }\n",
       "\n",
       "    .dataframe tbody tr th {\n",
       "        vertical-align: top;\n",
       "    }\n",
       "\n",
       "    .dataframe thead th {\n",
       "        text-align: right;\n",
       "    }\n",
       "</style>\n",
       "<table border=\"1\" class=\"dataframe\">\n",
       "  <thead>\n",
       "    <tr style=\"text-align: right;\">\n",
       "      <th></th>\n",
       "      <th>reviews</th>\n",
       "      <th>sentiment</th>\n",
       "      <th>polarity</th>\n",
       "    </tr>\n",
       "  </thead>\n",
       "  <tbody>\n",
       "    <tr>\n",
       "      <th>0</th>\n",
       "      <td>We flew BA between Heathrow and Berlin one w...</td>\n",
       "      <td>0.9811</td>\n",
       "      <td>positive</td>\n",
       "    </tr>\n",
       "    <tr>\n",
       "      <th>1</th>\n",
       "      <td>Absolutely disgusted with BA. Our flights we...</td>\n",
       "      <td>-0.7047</td>\n",
       "      <td>negative</td>\n",
       "    </tr>\n",
       "    <tr>\n",
       "      <th>2</th>\n",
       "      <td>Took a trip to Nashville with my wife for a l...</td>\n",
       "      <td>0.7861</td>\n",
       "      <td>positive</td>\n",
       "    </tr>\n",
       "    <tr>\n",
       "      <th>3</th>\n",
       "      <td>A nightmare journey courtesy of British Airw...</td>\n",
       "      <td>-0.8520</td>\n",
       "      <td>negative</td>\n",
       "    </tr>\n",
       "    <tr>\n",
       "      <th>4</th>\n",
       "      <td>Absolutely atrocious. LHR-ORD-LHR Round-trip....</td>\n",
       "      <td>-0.9600</td>\n",
       "      <td>negative</td>\n",
       "    </tr>\n",
       "    <tr>\n",
       "      <th>...</th>\n",
       "      <td>...</td>\n",
       "      <td>...</td>\n",
       "      <td>...</td>\n",
       "    </tr>\n",
       "    <tr>\n",
       "      <th>995</th>\n",
       "      <td>London to Olbia. Complete confusion. The pla...</td>\n",
       "      <td>-0.9726</td>\n",
       "      <td>negative</td>\n",
       "    </tr>\n",
       "    <tr>\n",
       "      <th>996</th>\n",
       "      <td>Rotterdam to London City. After waiting for ...</td>\n",
       "      <td>-0.9539</td>\n",
       "      <td>negative</td>\n",
       "    </tr>\n",
       "    <tr>\n",
       "      <th>997</th>\n",
       "      <td>Return flight to Dublin. Outbound Galleries ...</td>\n",
       "      <td>0.8536</td>\n",
       "      <td>positive</td>\n",
       "    </tr>\n",
       "    <tr>\n",
       "      <th>998</th>\n",
       "      <td>Barbados to Gatwick. We boarded a half full ...</td>\n",
       "      <td>0.7998</td>\n",
       "      <td>positive</td>\n",
       "    </tr>\n",
       "    <tr>\n",
       "      <th>999</th>\n",
       "      <td>I would like to praise the outstanding court...</td>\n",
       "      <td>0.9800</td>\n",
       "      <td>positive</td>\n",
       "    </tr>\n",
       "  </tbody>\n",
       "</table>\n",
       "<p>1000 rows × 3 columns</p>\n",
       "</div>"
      ],
      "text/plain": [
       "                                               reviews  sentiment  polarity\n",
       "0      We flew BA between Heathrow and Berlin one w...     0.9811  positive\n",
       "1      Absolutely disgusted with BA. Our flights we...    -0.7047  negative\n",
       "2     Took a trip to Nashville with my wife for a l...     0.7861  positive\n",
       "3      A nightmare journey courtesy of British Airw...    -0.8520  negative\n",
       "4     Absolutely atrocious. LHR-ORD-LHR Round-trip....    -0.9600  negative\n",
       "..                                                 ...        ...       ...\n",
       "995    London to Olbia. Complete confusion. The pla...    -0.9726  negative\n",
       "996    Rotterdam to London City. After waiting for ...    -0.9539  negative\n",
       "997    Return flight to Dublin. Outbound Galleries ...     0.8536  positive\n",
       "998    Barbados to Gatwick. We boarded a half full ...     0.7998  positive\n",
       "999    I would like to praise the outstanding court...     0.9800  positive\n",
       "\n",
       "[1000 rows x 3 columns]"
      ]
     },
     "execution_count": 49,
     "metadata": {},
     "output_type": "execute_result"
    }
   ],
   "source": [
    "df"
   ]
  },
  {
   "cell_type": "code",
   "execution_count": 51,
   "id": "e3a0d3c3",
   "metadata": {},
   "outputs": [],
   "source": [
    "df.to_excel(\"BA_Sentiment_Analysis.xlsx\", index=False)"
   ]
  },
  {
   "cell_type": "code",
   "execution_count": null,
   "id": "c7a51a5a",
   "metadata": {},
   "outputs": [],
   "source": []
  }
 ],
 "metadata": {
  "kernelspec": {
   "display_name": "Python 3 (ipykernel)",
   "language": "python",
   "name": "python3"
  },
  "language_info": {
   "codemirror_mode": {
    "name": "ipython",
    "version": 3
   },
   "file_extension": ".py",
   "mimetype": "text/x-python",
   "name": "python",
   "nbconvert_exporter": "python",
   "pygments_lexer": "ipython3",
   "version": "3.11.4"
  }
 },
 "nbformat": 4,
 "nbformat_minor": 5
}
